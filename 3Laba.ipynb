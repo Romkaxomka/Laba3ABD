{
  "nbformat": 4,
  "nbformat_minor": 0,
  "metadata": {
    "colab": {
      "name": "3Laba",
      "provenance": [],
      "collapsed_sections": [],
      "authorship_tag": "ABX9TyPgLeCYxpN9oUQ1aCrYNOmO",
      "include_colab_link": true
    },
    "kernelspec": {
      "name": "python3",
      "display_name": "Python 3"
    }
  },
  "cells": [
    {
      "cell_type": "markdown",
      "metadata": {
        "id": "view-in-github",
        "colab_type": "text"
      },
      "source": [
        "<a href=\"https://colab.research.google.com/github/Romkaxomka/Laba3ABD/blob/main/3Laba.ipynb\" target=\"_parent\"><img src=\"https://colab.research.google.com/assets/colab-badge.svg\" alt=\"Open In Colab\"/></a>"
      ]
    },
    {
      "cell_type": "code",
      "metadata": {
        "id": "adpM8WEHt82C",
        "outputId": "aa25e8bd-9deb-4b87-8323-f2f958a1f08e",
        "colab": {
          "base_uri": "https://localhost:8080/",
          "height": 35
        }
      },
      "source": [
        "import requests\n",
        "import json\n",
        "import time\n",
        "import os\n",
        "import csv\n",
        " \n",
        "  \n",
        "def getPage(page = 0):\n",
        "  params = {\n",
        "      'text': '', # Текст фильтра. В имени должно быть слово \"Аналитик\"\n",
        "      'area': 95, # Поиск ощуществляется по вакансиям города Москва\n",
        "      'page': page, # Индекс страницы поиска на HH\n",
        "      'per_page': 100 # Кол-во вакансий на 1 странице\n",
        "  }\n",
        "\n",
        "  req = requests.get('https://api.hh.ru/vacancies', params)\n",
        "  data = req.content.decode()\n",
        "  req.close()\n",
        "  return data\n",
        " \n",
        "f = open('vacancies.csv', mode='w', encoding='utf8')\n",
        "writer = csv.writer(f)\n",
        "\n",
        "headers = [\"name\", \"area\", \"salary_from\", \"salary_to\", \"employer_name\", \"published_at\", \"schedule\", \"responsibility\", \"requirement\"]\n",
        "writer.writerow(headers)\n",
        "\n",
        "for page in range(0, 20):\n",
        "  jsObj = json.loads(getPage(page))\n",
        "\n",
        "  for item in jsObj['items']:\n",
        "    obj_to_write = []\n",
        "\n",
        "    obj_to_write.append(item['name'])\n",
        "\n",
        "    obj_to_write.append(item['area']['name'])\n",
        "\n",
        "    if not item['salary'] is None:\n",
        "      obj_to_write.append(item['salary']['from'])\n",
        "      obj_to_write.append(item['salary']['to'])\n",
        "    else:\n",
        "      obj_to_write.append(None)\n",
        "      obj_to_write.append(None)\n",
        "\n",
        "    obj_to_write.append(item['employer']['name'])\n",
        "    \n",
        "    obj_to_write.append(item['published_at'])\n",
        "\n",
        "    obj_to_write.append(item['schedule']['name'])\n",
        "\n",
        "    obj_to_write.append(item['snippet']['responsibility'])\n",
        "    obj_to_write.append(item['snippet']['requirement'])\n",
        "\n",
        "    writer.writerow(obj_to_write)\n",
        "\n",
        "  if (jsObj['pages'] - page) <= 1:\n",
        "    break\n",
        "  time.sleep(0.25)\n",
        "\n",
        "\n",
        "f.close()\n",
        "print('Старницы поиска собраны')"
      ],
      "execution_count": null,
      "outputs": [
        {
          "output_type": "stream",
          "text": [
            "Старницы поиска собраны\n"
          ],
          "name": "stdout"
        }
      ]
    },
    {
      "cell_type": "code",
      "metadata": {
        "id": "rEmGZuS43Ev9",
        "outputId": "58ea34d1-5931-489d-dc6c-dbe530427219",
        "colab": {
          "base_uri": "https://localhost:8080/",
          "height": 260
        }
      },
      "source": [
        "import pandas as pd\n",
        "\n",
        "fixed_df = pd.read_csv('vacancies.csv')\n",
        "print(fixed_df)"
      ],
      "execution_count": null,
      "outputs": [
        {
          "output_type": "stream",
          "text": [
            "                                                   name  ...                                        requirement\n",
            "0                  Investment advisor (Private Banking)  ...  Опыт работы с состоятельными частными клиентам...\n",
            "1                                   Финансовый советник  ...  Опыт работы с состоятельными частными клиентам...\n",
            "2     Менеджер по продажам лабораторного оборудовани...  ...                                                NaN\n",
            "3                                              Водитель  ...  Открытые категории В. Стаж работы водителем ка...\n",
            "4                    Специалист по продаже недвижимости  ...  Желание зарабатывать от 70 т.р. и улучшать сво...\n",
            "...                                                 ...  ...                                                ...\n",
            "1995                Менеджер по продажам (Недвижимость)  ...  у тебя высшее или среднее специальное образова...\n",
            "1996  Специалист по продаже недвижимости (офис, Гриб...  ...  Активная жизненная позиция, стрессоустойчивост...\n",
            "1997                 Специалист по продаже недвижимости  ...  Высокий уровень самоорганизации. Знание ПК на ...\n",
            "1998                                         Специалист  ...  Умение работать на компьютере, в интернете (об...\n",
            "1999            Специалист по коммерческой недвижимости  ...  Знание ПК на уровне пользователя. Работа в реж...\n",
            "\n",
            "[2000 rows x 9 columns]\n"
          ],
          "name": "stdout"
        }
      ]
    },
    {
      "cell_type": "code",
      "metadata": {
        "id": "9jqFjyjE4T8Q"
      },
      "source": [
        "fixed_df"
      ],
      "execution_count": null,
      "outputs": []
    }
  ]
}