{
  "nbformat": 4,
  "nbformat_minor": 0,
  "metadata": {
    "colab": {
      "name": "3Laba",
      "provenance": [],
      "collapsed_sections": [],
      "authorship_tag": "ABX9TyNvZRHCHkliBll0IVIy7Ptk",
      "include_colab_link": true
    },
    "kernelspec": {
      "name": "python3",
      "display_name": "Python 3"
    }
  },
  "cells": [
    {
      "cell_type": "markdown",
      "metadata": {
        "id": "view-in-github",
        "colab_type": "text"
      },
      "source": [
        "<a href=\"https://colab.research.google.com/github/Romkaxomka/Laba_ABD/blob/main/4Laba.ipynb\" target=\"_parent\"><img src=\"https://colab.research.google.com/assets/colab-badge.svg\" alt=\"Open In Colab\"/></a>"
      ]
    },
    {
      "cell_type": "code",
      "metadata": {
        "id": "adpM8WEHt82C"
      },
      "source": [
        "#Часть 1.\n",
        "#Выполнить парсинг вакансий любого рекрутингового сайта (HeadHunter, Indeed, SuperJob, Зарплата, и тд) с фильтром по отрасли ИТ.\n",
        "\n",
        "import requests\n",
        "import json\n",
        "import time\n",
        "import os\n",
        "import csv\n",
        " \n",
        "  \n",
        "def getPage(page = 0):\n",
        "  params = {\n",
        "      'area': 95, # Поиск ощуществляется по вакансиям города Москва\n",
        "      'page': page, # Индекс страницы поиска на HH\n",
        "      'per_page': 100 # Кол-во вакансий на 1 странице\n",
        "  }\n",
        "\n",
        "  req = requests.get('https://api.hh.ru/vacancies', params)\n",
        "  data = req.content.decode()\n",
        "  req.close()\n",
        "  return data\n",
        " \n",
        "f = open('vacancies.csv', mode='w', encoding='utf8')\n",
        "writer = csv.writer(f)\n",
        "\n",
        "headers = [\"name\", \"area\", \"salary_from\", \"salary_to\", \"employer_name\", \"published_at\", \"schedule\", \"responsibility\", \"requirement\"]\n",
        "writer.writerow(headers)\n",
        "\n",
        "for page in range(0, 20):\n",
        "  jsObj = json.loads(getPage(page))\n",
        "\n",
        "  for item in jsObj['items']:\n",
        "    obj_to_write = []\n",
        "\n",
        "    obj_to_write.append(item['name'])\n",
        "\n",
        "    obj_to_write.append(item['area']['name'])\n",
        "\n",
        "    if not item['salary'] is None:\n",
        "      obj_to_write.append(item['salary']['from'])\n",
        "      obj_to_write.append(item['salary']['to'])\n",
        "    else:\n",
        "      obj_to_write.append(None)\n",
        "      obj_to_write.append(None)\n",
        "\n",
        "    obj_to_write.append(item['employer']['name'])\n",
        "    \n",
        "    obj_to_write.append(item['published_at'])\n",
        "\n",
        "    obj_to_write.append(item['schedule']['name'])\n",
        "\n",
        "    obj_to_write.append(item['snippet']['responsibility'])\n",
        "    obj_to_write.append(item['snippet']['requirement'])\n",
        "\n",
        "    writer.writerow(obj_to_write)\n",
        "\n",
        "  if (jsObj['pages'] - page) <= 1:\n",
        "    break\n",
        "  time.sleep(0.25)\n",
        "\n",
        "\n",
        "f.close()\n",
        "print('Старницы поиска собраны')"
      ],
      "execution_count": null,
      "outputs": []
    },
    {
      "cell_type": "code",
      "metadata": {
        "id": "rEmGZuS43Ev9"
      },
      "source": [
        "import pandas as pd\n",
        "import numpy as np\n",
        "\n",
        "df = pd.read_csv('vacancies.csv')\n",
        "print(df)"
      ],
      "execution_count": null,
      "outputs": []
    },
    {
      "cell_type": "code",
      "metadata": {
        "id": "Ba6weg2gW9my"
      },
      "source": [
        "# сгруппировать вакансии по названиям\n",
        "\n",
        "gourps = [list(), list(), list(), list(), list(), list(), list()]\n",
        "\n",
        "for i in range(len(df)) :\n",
        "  name = df.iloc[i, 0].lower()\n",
        "  if \"developer\" in name or \"разработчик\" in name or \"программист\" in name :\n",
        "    gourps[0].append(df.iloc[i])\n",
        "  elif \"водитель\" in name or \"курьер\" in name :\n",
        "    gourps[1].append(df.iloc[i])\n",
        "  elif \"врач\" in name:\n",
        "    gourps[2].append(df.iloc[i])\n",
        "  elif \"менеджер\" in name or \"администратор\" in name :\n",
        "    gourps[3].append(df.iloc[i])\n",
        "  elif \"оператор\" in name:\n",
        "    gourps[4].append(df.iloc[i])\n",
        "  elif \"инженер\" in name:\n",
        "    gourps[5].append(df.iloc[i])\n",
        "  else:\n",
        "    gourps[6].append(df.iloc[i])\n",
        "\n",
        "gourps_df[0]"
      ],
      "execution_count": null,
      "outputs": []
    },
    {
      "cell_type": "code",
      "metadata": {
        "id": "37K-8ZrJfDkd"
      },
      "source": [
        "gourps_df = []\n",
        "\n",
        "for i in range(7):\n",
        "  gourps_df.append(pd.DataFrame(gourps[i]))"
      ],
      "execution_count": null,
      "outputs": []
    },
    {
      "cell_type": "code",
      "metadata": {
        "id": "9ALJalrxeviL"
      },
      "source": [
        "# заполнить пропуски по зарплате средним значением\n",
        "\n",
        "\n",
        "for i in range(len(gourps_df)):\n",
        "  gourps_df[i]['salary_from'] = gourps_df[i]['salary_from'].fillna(gourps_df[i]['salary_from'].mean())\n",
        "  gourps_df[i]['salary_to'] = gourps_df[i]['salary_to'].fillna(gourps_df[i]['salary_to'].mean())\n",
        "\n",
        "df = df.merge(gourps_df[0], how='right')\n",
        "df = df.merge(gourps_df[1], how='right')\n",
        "df = df.merge(gourps_df[2], how='right')\n",
        "df = df.merge(gourps_df[3], how='right')\n",
        "df = df.merge(gourps_df[4], how='right')\n",
        "df = df.merge(gourps_df[5], how='right')\n",
        "df = df.merge(gourps_df[6], how='right')\n",
        "\n",
        "df"
      ],
      "execution_count": null,
      "outputs": []
    },
    {
      "cell_type": "code",
      "metadata": {
        "id": "giWYdB7xf7lc"
      },
      "source": [
        "# добавить новый признак в датасет на основе признака “дата размещения вакансии” - количество дней с момента размещения;\n",
        "from datetime import datetime, date\n",
        "\n",
        "\n",
        "day_count = []\n",
        "today = datetime.today()\n",
        "\n",
        "for i in range(len(df)):\n",
        "  published_at = datetime.strptime(df.iloc[i]['published_at'].split(\"T\")[0], '%Y-%m-%d')\n",
        "  day_count.append((today - published_at).days)\n",
        "\n",
        "df['days_count'] = day_count\n",
        "\n",
        "df"
      ],
      "execution_count": null,
      "outputs": []
    },
    {
      "cell_type": "code",
      "metadata": {
        "id": "U7wZb4Nrjdls"
      },
      "source": [
        "#заполнить пропуски в признаке “требуемый опыт работы” по принципу: если не указан, то опыт не требуется;\n",
        "\n",
        "for i in range(len(df)):\n",
        "  if 'nan' in str(df.iloc[i]['requirement']):\n",
        "    df.iloc[i, 8]  = \"Не требуется\"\n",
        "\n",
        "df"
      ],
      "execution_count": null,
      "outputs": []
    }
  ]
}